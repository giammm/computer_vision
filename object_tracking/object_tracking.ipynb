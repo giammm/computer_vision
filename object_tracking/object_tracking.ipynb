{
  "nbformat": 4,
  "nbformat_minor": 0,
  "metadata": {
    "colab": {
      "provenance": []
    },
    "kernelspec": {
      "name": "python3",
      "display_name": "Python 3"
    },
    "language_info": {
      "name": "python"
    }
  },
  "cells": [
    {
      "cell_type": "markdown",
      "source": [
        "- KCF (kernel Correlation Filters) algorithm\n",
        "- CSRT (Discriminative Correlation Filter with Channel and Spatial Reliability) algorithm"
      ],
      "metadata": {
        "id": "-4isM-Ur0inP"
      }
    },
    {
      "cell_type": "markdown",
      "source": [
        "object tracking is usually faster than object detection, because to track an object the algorithm already know it. They use existing data, while object detection algorithm search from scratch the object frame by frame"
      ],
      "metadata": {
        "id": "TXqVmYTh1UvK"
      }
    },
    {
      "cell_type": "markdown",
      "source": [
        "# KCF Kernel Correlation Filters\n",
        "\n",
        "- fast algorithm but does not perform very well in fast videos\n",
        "- one of the most common problems is when the bounding box loses the object\n",
        "- how it works:\n",
        "  - we have the first frame, which is the initialization or the definition of the object to be detected\n",
        "  - when working with videos, we use the first frame to select the object we want to track\n",
        "  - then the algorithm applies a concept called **particle filter** so that two additional larger bounding boxes are created to cover a large part of the image\n",
        "  - next, in the two next frames, the largest bounding box is used in order to adjust the frame in the central parts of the face. so the filter is updated\n",
        "  - so in the next frames, the second largest (the additional) bounding box is used and it is updated to center the position of the face\n",
        "  - then, in the next frame the same is done for the original bounding box\n",
        "  - the goal of the algorithm is to make several adjustments in these bounding boxes\n",
        "  - the larger BB that were automaticallly generated are important to detect changes in the scale or the size of the object. like a person approaching the camera"
      ],
      "metadata": {
        "id": "yT8GUhgP2Yfr"
      }
    },
    {
      "cell_type": "markdown",
      "source": [
        "# CSRT Discriminative Correlation Filter with Channel and Spatial Reliability\n",
        "- more accurate than the other but is slower\n",
        "- steps:\n",
        "  - first we select the object we want to track (training patch)\n",
        "  -  then a discriminative filter is created and the HOG technique is used\n",
        "  - HOG will also identify the edges and the corners of the selected image in order to discover the shape\n",
        "  - then a Random Markov Test is applied to generate probabilities and predict the next image\n",
        "  - in the last step a confidence map is used and the training patch is masked"
      ],
      "metadata": {
        "id": "NxLUOqOm4TWR"
      }
    },
    {
      "cell_type": "code",
      "execution_count": null,
      "metadata": {
        "id": "uc5ii2xf0fOt"
      },
      "outputs": [],
      "source": []
    }
  ]
}